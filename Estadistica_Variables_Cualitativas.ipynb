{
  "cells": [
    {
      "cell_type": "markdown",
      "source": [
        "### Librerias"
      ],
      "metadata": {
        "id": "9oK_YYreYV-l"
      }
    },
    {
      "cell_type": "code",
      "source": [
        "# from google.colab import files\n",
        "import pandas as pd\n",
        "import statsmodels.api as sm\n",
        "import statsmodels.formula.api as smf\n",
        "from statsmodels.stats.anova import anova_lm"
      ],
      "metadata": {
        "id": "CvEs01FVXzxf"
      },
      "execution_count": null,
      "outputs": []
    },
    {
      "cell_type": "markdown",
      "source": [
        "### Data"
      ],
      "metadata": {
        "id": "lepFZtqYYY5l"
      }
    },
    {
      "cell_type": "code",
      "source": [
        "# uploaded = files.upload()"
      ],
      "metadata": {
        "colab": {
          "base_uri": "https://localhost:8080/",
          "height": 73
        },
        "id": "v7LYPk7_WaPA",
        "outputId": "df3c2169-72a5-410d-e682-3fc5d1c777e1"
      },
      "execution_count": null,
      "outputs": [
        {
          "output_type": "display_data",
          "data": {
            "text/plain": [
              "<IPython.core.display.HTML object>"
            ],
            "text/html": [
              "\n",
              "     <input type=\"file\" id=\"files-bc027be7-a6cc-4422-9242-be9ea19fd332\" name=\"files[]\" multiple disabled\n",
              "        style=\"border:none\" />\n",
              "     <output id=\"result-bc027be7-a6cc-4422-9242-be9ea19fd332\">\n",
              "      Upload widget is only available when the cell has been executed in the\n",
              "      current browser session. Please rerun this cell to enable.\n",
              "      </output>\n",
              "      <script>// Copyright 2017 Google LLC\n",
              "//\n",
              "// Licensed under the Apache License, Version 2.0 (the \"License\");\n",
              "// you may not use this file except in compliance with the License.\n",
              "// You may obtain a copy of the License at\n",
              "//\n",
              "//      http://www.apache.org/licenses/LICENSE-2.0\n",
              "//\n",
              "// Unless required by applicable law or agreed to in writing, software\n",
              "// distributed under the License is distributed on an \"AS IS\" BASIS,\n",
              "// WITHOUT WARRANTIES OR CONDITIONS OF ANY KIND, either express or implied.\n",
              "// See the License for the specific language governing permissions and\n",
              "// limitations under the License.\n",
              "\n",
              "/**\n",
              " * @fileoverview Helpers for google.colab Python module.\n",
              " */\n",
              "(function(scope) {\n",
              "function span(text, styleAttributes = {}) {\n",
              "  const element = document.createElement('span');\n",
              "  element.textContent = text;\n",
              "  for (const key of Object.keys(styleAttributes)) {\n",
              "    element.style[key] = styleAttributes[key];\n",
              "  }\n",
              "  return element;\n",
              "}\n",
              "\n",
              "// Max number of bytes which will be uploaded at a time.\n",
              "const MAX_PAYLOAD_SIZE = 100 * 1024;\n",
              "\n",
              "function _uploadFiles(inputId, outputId) {\n",
              "  const steps = uploadFilesStep(inputId, outputId);\n",
              "  const outputElement = document.getElementById(outputId);\n",
              "  // Cache steps on the outputElement to make it available for the next call\n",
              "  // to uploadFilesContinue from Python.\n",
              "  outputElement.steps = steps;\n",
              "\n",
              "  return _uploadFilesContinue(outputId);\n",
              "}\n",
              "\n",
              "// This is roughly an async generator (not supported in the browser yet),\n",
              "// where there are multiple asynchronous steps and the Python side is going\n",
              "// to poll for completion of each step.\n",
              "// This uses a Promise to block the python side on completion of each step,\n",
              "// then passes the result of the previous step as the input to the next step.\n",
              "function _uploadFilesContinue(outputId) {\n",
              "  const outputElement = document.getElementById(outputId);\n",
              "  const steps = outputElement.steps;\n",
              "\n",
              "  const next = steps.next(outputElement.lastPromiseValue);\n",
              "  return Promise.resolve(next.value.promise).then((value) => {\n",
              "    // Cache the last promise value to make it available to the next\n",
              "    // step of the generator.\n",
              "    outputElement.lastPromiseValue = value;\n",
              "    return next.value.response;\n",
              "  });\n",
              "}\n",
              "\n",
              "/**\n",
              " * Generator function which is called between each async step of the upload\n",
              " * process.\n",
              " * @param {string} inputId Element ID of the input file picker element.\n",
              " * @param {string} outputId Element ID of the output display.\n",
              " * @return {!Iterable<!Object>} Iterable of next steps.\n",
              " */\n",
              "function* uploadFilesStep(inputId, outputId) {\n",
              "  const inputElement = document.getElementById(inputId);\n",
              "  inputElement.disabled = false;\n",
              "\n",
              "  const outputElement = document.getElementById(outputId);\n",
              "  outputElement.innerHTML = '';\n",
              "\n",
              "  const pickedPromise = new Promise((resolve) => {\n",
              "    inputElement.addEventListener('change', (e) => {\n",
              "      resolve(e.target.files);\n",
              "    });\n",
              "  });\n",
              "\n",
              "  const cancel = document.createElement('button');\n",
              "  inputElement.parentElement.appendChild(cancel);\n",
              "  cancel.textContent = 'Cancel upload';\n",
              "  const cancelPromise = new Promise((resolve) => {\n",
              "    cancel.onclick = () => {\n",
              "      resolve(null);\n",
              "    };\n",
              "  });\n",
              "\n",
              "  // Wait for the user to pick the files.\n",
              "  const files = yield {\n",
              "    promise: Promise.race([pickedPromise, cancelPromise]),\n",
              "    response: {\n",
              "      action: 'starting',\n",
              "    }\n",
              "  };\n",
              "\n",
              "  cancel.remove();\n",
              "\n",
              "  // Disable the input element since further picks are not allowed.\n",
              "  inputElement.disabled = true;\n",
              "\n",
              "  if (!files) {\n",
              "    return {\n",
              "      response: {\n",
              "        action: 'complete',\n",
              "      }\n",
              "    };\n",
              "  }\n",
              "\n",
              "  for (const file of files) {\n",
              "    const li = document.createElement('li');\n",
              "    li.append(span(file.name, {fontWeight: 'bold'}));\n",
              "    li.append(span(\n",
              "        `(${file.type || 'n/a'}) - ${file.size} bytes, ` +\n",
              "        `last modified: ${\n",
              "            file.lastModifiedDate ? file.lastModifiedDate.toLocaleDateString() :\n",
              "                                    'n/a'} - `));\n",
              "    const percent = span('0% done');\n",
              "    li.appendChild(percent);\n",
              "\n",
              "    outputElement.appendChild(li);\n",
              "\n",
              "    const fileDataPromise = new Promise((resolve) => {\n",
              "      const reader = new FileReader();\n",
              "      reader.onload = (e) => {\n",
              "        resolve(e.target.result);\n",
              "      };\n",
              "      reader.readAsArrayBuffer(file);\n",
              "    });\n",
              "    // Wait for the data to be ready.\n",
              "    let fileData = yield {\n",
              "      promise: fileDataPromise,\n",
              "      response: {\n",
              "        action: 'continue',\n",
              "      }\n",
              "    };\n",
              "\n",
              "    // Use a chunked sending to avoid message size limits. See b/62115660.\n",
              "    let position = 0;\n",
              "    do {\n",
              "      const length = Math.min(fileData.byteLength - position, MAX_PAYLOAD_SIZE);\n",
              "      const chunk = new Uint8Array(fileData, position, length);\n",
              "      position += length;\n",
              "\n",
              "      const base64 = btoa(String.fromCharCode.apply(null, chunk));\n",
              "      yield {\n",
              "        response: {\n",
              "          action: 'append',\n",
              "          file: file.name,\n",
              "          data: base64,\n",
              "        },\n",
              "      };\n",
              "\n",
              "      let percentDone = fileData.byteLength === 0 ?\n",
              "          100 :\n",
              "          Math.round((position / fileData.byteLength) * 100);\n",
              "      percent.textContent = `${percentDone}% done`;\n",
              "\n",
              "    } while (position < fileData.byteLength);\n",
              "  }\n",
              "\n",
              "  // All done.\n",
              "  yield {\n",
              "    response: {\n",
              "      action: 'complete',\n",
              "    }\n",
              "  };\n",
              "}\n",
              "\n",
              "scope.google = scope.google || {};\n",
              "scope.google.colab = scope.google.colab || {};\n",
              "scope.google.colab._files = {\n",
              "  _uploadFiles,\n",
              "  _uploadFilesContinue,\n",
              "};\n",
              "})(self);\n",
              "</script> "
            ]
          },
          "metadata": {}
        },
        {
          "output_type": "stream",
          "name": "stdout",
          "text": [
            "Saving datos.xlsx to datos (4).xlsx\n"
          ]
        }
      ]
    },
    {
      "cell_type": "code",
      "source": [
        "# file_name = list(uploaded.keys())[-1]\n",
        "# df = pd.read_excel(file_name)\n",
        "file_name = \"data.xlsx\"\n",
        "df = pd.read_excel(file_name)\n",
        "Y = df['Y'].astype(float)\n",
        "X_cuantitativa = df['X_cuantitativa'].astype(float)\n",
        "X_cualitativa = df['X_cualitativa'].astype(str)\n",
        "print(df)"
      ],
      "metadata": {
        "colab": {
          "base_uri": "https://localhost:8080/"
        },
        "id": "VRULgGNnYaN1",
        "outputId": "9a9e15e8-3616-4e7e-c823-2d7bcfcc1266"
      },
      "execution_count": null,
      "outputs": [
        {
          "output_type": "stream",
          "name": "stdout",
          "text": [
            "     Y  X_cuantitativa X_cualitativa\n",
            "0   43               5           Sin\n",
            "1   50               6           Peq\n",
            "2   48               7          Gran\n",
            "3   41               8           Sin\n",
            "4   55               9           Peq\n",
            "5   63              10          Gran\n",
            "6   38               6           Sin\n",
            "7   53               7           Peq\n",
            "8   57               8          Gran\n",
            "9   50               9           Sin\n",
            "10  49              10           Peq\n",
            "11  66              11          Gran\n"
          ]
        }
      ]
    },
    {
      "cell_type": "markdown",
      "source": [
        "### Variables"
      ],
      "metadata": {
        "id": "KoW3VIAVZMvn"
      }
    },
    {
      "cell_type": "code",
      "source": [
        "dummies = pd.get_dummies(X_cualitativa, drop_first=True).astype(int)\n",
        "print(dummies)"
      ],
      "metadata": {
        "id": "XTEJk9b6YACN",
        "outputId": "79405256-0bb0-47f5-d93b-090bde159216",
        "colab": {
          "base_uri": "https://localhost:8080/"
        }
      },
      "execution_count": null,
      "outputs": [
        {
          "output_type": "stream",
          "name": "stdout",
          "text": [
            "    Peq  Sin\n",
            "0     0    1\n",
            "1     1    0\n",
            "2     0    0\n",
            "3     0    1\n",
            "4     1    0\n",
            "5     0    0\n",
            "6     0    1\n",
            "7     1    0\n",
            "8     0    0\n",
            "9     0    1\n",
            "10    1    0\n",
            "11    0    0\n"
          ]
        }
      ]
    },
    {
      "cell_type": "code",
      "source": [
        "X = pd.concat([X_cuantitativa, dummies], axis=1)\n",
        "X = sm.add_constant(X)\n",
        "print(X)"
      ],
      "metadata": {
        "id": "SV2_BsjxYDsk",
        "outputId": "c5ebf161-0638-4a2a-cf8a-3af0944e4fcc",
        "colab": {
          "base_uri": "https://localhost:8080/"
        }
      },
      "execution_count": null,
      "outputs": [
        {
          "output_type": "stream",
          "name": "stdout",
          "text": [
            "    const  X_cuantitativa  Peq  Sin\n",
            "0     1.0             5.0    0    1\n",
            "1     1.0             6.0    1    0\n",
            "2     1.0             7.0    0    0\n",
            "3     1.0             8.0    0    1\n",
            "4     1.0             9.0    1    0\n",
            "5     1.0            10.0    0    0\n",
            "6     1.0             6.0    0    1\n",
            "7     1.0             7.0    1    0\n",
            "8     1.0             8.0    0    0\n",
            "9     1.0             9.0    0    1\n",
            "10    1.0            10.0    1    0\n",
            "11    1.0            11.0    0    0\n"
          ]
        }
      ]
    },
    {
      "cell_type": "markdown",
      "source": [
        "### Modelo"
      ],
      "metadata": {
        "id": "zLjyWOEau-TU"
      }
    },
    {
      "cell_type": "code",
      "source": [
        "formula_completo = f\"{Y.name} ~ {X_cuantitativa.name} + C({X_cualitativa.name})\"\n",
        "modelo_completo = smf.ols(formula_completo, data=df).fit()"
      ],
      "metadata": {
        "id": "kIG_U0zbxdd2"
      },
      "execution_count": null,
      "outputs": []
    },
    {
      "cell_type": "markdown",
      "source": [
        "### Análisis"
      ],
      "metadata": {
        "id": "eElH8wmue0GV"
      }
    },
    {
      "cell_type": "code",
      "source": [
        "print(modelo_completo.summary())"
      ],
      "metadata": {
        "id": "5OMZGByNYInl",
        "outputId": "da9b7d63-a479-4b5d-dddb-9aae3e0e077b",
        "colab": {
          "base_uri": "https://localhost:8080/"
        }
      },
      "execution_count": null,
      "outputs": [
        {
          "output_type": "stream",
          "name": "stdout",
          "text": [
            "                            OLS Regression Results                            \n",
            "==============================================================================\n",
            "Dep. Variable:                      Y   R-squared:                       0.775\n",
            "Model:                            OLS   Adj. R-squared:                  0.691\n",
            "Method:                 Least Squares   F-statistic:                     9.198\n",
            "Date:                Mon, 24 Mar 2025   Prob (F-statistic):            0.00569\n",
            "Time:                        04:46:52   Log-Likelihood:                -33.062\n",
            "No. Observations:                  12   AIC:                             74.12\n",
            "Df Residuals:                       8   BIC:                             76.06\n",
            "Df Model:                           3                                         \n",
            "Covariance Type:            nonrobust                                         \n",
            "===========================================================================================\n",
            "                              coef    std err          t      P>|t|      [0.025      0.975]\n",
            "-------------------------------------------------------------------------------------------\n",
            "Intercept                  40.8000      8.004      5.098      0.001      22.344      59.256\n",
            "C(X_cualitativa)[T.Peq]    -4.7833      3.403     -1.406      0.197     -12.631       3.064\n",
            "C(X_cualitativa)[T.Sin]   -11.5667      3.708     -3.119      0.014     -20.118      -3.015\n",
            "X_cuantitativa              1.9667      0.851      2.312      0.050       0.005       3.929\n",
            "==============================================================================\n",
            "Omnibus:                        2.421   Durbin-Watson:                   2.303\n",
            "Prob(Omnibus):                  0.298   Jarque-Bera (JB):                1.606\n",
            "Skew:                          -0.718   Prob(JB):                        0.448\n",
            "Kurtosis:                       1.929   Cond. No.                         52.7\n",
            "==============================================================================\n",
            "\n",
            "Notes:\n",
            "[1] Standard Errors assume that the covariance matrix of the errors is correctly specified.\n"
          ]
        },
        {
          "output_type": "stream",
          "name": "stderr",
          "text": [
            "/usr/local/lib/python3.11/dist-packages/scipy/stats/_axis_nan_policy.py:418: UserWarning: `kurtosistest` p-value may be inaccurate with fewer than 20 observations; only n=12 observations were given.\n",
            "  return hypotest_fun_in(*args, **kwds)\n"
          ]
        }
      ]
    },
    {
      "cell_type": "code",
      "source": [
        "anova_tabla = anova_lm(modelo_completo, typ=2)\n",
        "print(anova_tabla)"
      ],
      "metadata": {
        "colab": {
          "base_uri": "https://localhost:8080/"
        },
        "id": "T_3MovvFwmwr",
        "outputId": "567e1cf0-3acf-4fef-85dd-30c3e56f17f5"
      },
      "execution_count": null,
      "outputs": [
        {
          "output_type": "stream",
          "name": "stdout",
          "text": [
            "                      sum_sq   df         F    PR(>F)\n",
            "C(X_cualitativa)  213.910526  2.0  4.925504  0.040338\n",
            "X_cuantitativa    116.033333  1.0  5.343567  0.049564\n",
            "Residual          173.716667  8.0       NaN       NaN\n"
          ]
        }
      ]
    },
    {
      "cell_type": "code",
      "source": [
        "formula_reducido = f\"{Y.name} ~ {X_cuantitativa.name}\"\n",
        "modelo_reducido = smf.ols(formula_reducido, data=df).fit()\n",
        "\n",
        "anova_comparacion = anova_lm(modelo_reducido, modelo_completo)\n",
        "print(anova_comparacion)"
      ],
      "metadata": {
        "id": "EHrBx9PRYMdk",
        "outputId": "3389b591-8f69-4d68-8d74-5a84bd570dcc",
        "colab": {
          "base_uri": "https://localhost:8080/"
        }
      },
      "execution_count": null,
      "outputs": [
        {
          "output_type": "stream",
          "name": "stdout",
          "text": [
            "   df_resid         ssr  df_diff     ss_diff         F    Pr(>F)\n",
            "0      10.0  387.627193      0.0         NaN       NaN       NaN\n",
            "1       8.0  173.716667      2.0  213.910526  4.925504  0.040338\n"
          ]
        }
      ]
    }
  ],
  "metadata": {
    "colab": {
      "provenance": []
    },
    "kernelspec": {
      "display_name": "Python 3",
      "name": "python3"
    }
  },
  "nbformat": 4,
  "nbformat_minor": 0
}